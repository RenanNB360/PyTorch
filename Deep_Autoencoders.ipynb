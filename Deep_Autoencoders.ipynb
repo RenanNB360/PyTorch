{
  "nbformat": 4,
  "nbformat_minor": 0,
  "metadata": {
    "colab": {
      "provenance": [],
      "include_colab_link": true
    },
    "kernelspec": {
      "name": "python3",
      "display_name": "Python 3"
    },
    "accelerator": "GPU"
  },
  "cells": [
    {
      "cell_type": "markdown",
      "metadata": {
        "id": "view-in-github",
        "colab_type": "text"
      },
      "source": [
        "<a href=\"https://colab.research.google.com/github/RenanNB360/PyTorch/blob/main/Deep_Autoencoders.ipynb\" target=\"_parent\"><img src=\"https://colab.research.google.com/assets/colab-badge.svg\" alt=\"Open In Colab\"/></a>"
      ]
    },
    {
      "cell_type": "markdown",
      "metadata": {
        "id": "5tP2BcEILoLB"
      },
      "source": [
        "## Etapa 1: Importação das bibliotecas"
      ]
    },
    {
      "cell_type": "code",
      "metadata": {
        "id": "Yf0FpJ35Lf-Z",
        "outputId": "7ef1ed98-fd4e-4da8-caeb-6804a8534a12",
        "colab": {
          "base_uri": "https://localhost:8080/",
          "height": 35
        }
      },
      "source": [
        "from torchvision import datasets, transforms\n",
        "import torch\n",
        "from torch import nn, optim\n",
        "import matplotlib.pyplot as plt\n",
        "torch.__version__"
      ],
      "execution_count": 1,
      "outputs": [
        {
          "output_type": "execute_result",
          "data": {
            "text/plain": [
              "'2.1.0+cu118'"
            ],
            "application/vnd.google.colaboratory.intrinsic+json": {
              "type": "string"
            }
          },
          "metadata": {},
          "execution_count": 1
        }
      ]
    },
    {
      "cell_type": "code",
      "metadata": {
        "id": "X1vw_qANCnRx",
        "outputId": "13b054c4-b4b1-41b8-864e-8aacdf536031",
        "colab": {
          "base_uri": "https://localhost:8080/"
        }
      },
      "source": [
        "torch.manual_seed(123)"
      ],
      "execution_count": 2,
      "outputs": [
        {
          "output_type": "execute_result",
          "data": {
            "text/plain": [
              "<torch._C.Generator at 0x79cb43b1bcd0>"
            ]
          },
          "metadata": {},
          "execution_count": 2
        }
      ]
    },
    {
      "cell_type": "markdown",
      "metadata": {
        "id": "C0SD4dJ4MDMN"
      },
      "source": [
        "## Etapa 2: Base de dados"
      ]
    },
    {
      "cell_type": "code",
      "metadata": {
        "id": "kPclooeTA_15"
      },
      "source": [
        "dataset_train = datasets.MNIST('MNIST-data', train = True, download = True,\n",
        "                               transform = transforms.ToTensor())\n",
        "loader_train = torch.utils.data.DataLoader(dataset_train, batch_size = 256,\n",
        "                                           shuffle = True)"
      ],
      "execution_count": 3,
      "outputs": []
    },
    {
      "cell_type": "code",
      "metadata": {
        "id": "WNzijlDYBIm1"
      },
      "source": [
        "dataset_val = datasets.MNIST('MNIST-data', train = False, download = True,\n",
        "                             transform = transforms.ToTensor())\n",
        "loader_val = torch.utils.data.DataLoader(dataset_val, batch_size = 256,\n",
        "                                         shuffle = True)"
      ],
      "execution_count": 4,
      "outputs": []
    },
    {
      "cell_type": "markdown",
      "metadata": {
        "id": "QGDLesyDQpIb"
      },
      "source": [
        "## Etapa 3: Construção do autoencoder"
      ]
    },
    {
      "cell_type": "code",
      "metadata": {
        "id": "VrFGMM3Qiboh"
      },
      "source": [
        "# 784 -> 128 -> 64 -> 32 -> 64 -> 128 -> 784\n",
        "class autoencoder(nn.Module):\n",
        "    def __init__(self):\n",
        "        super().__init__()\n",
        "        self.encoder0 = nn.Linear(in_features = 784, out_features = 128)\n",
        "        self.encoder1 = nn.Linear(128, 64)\n",
        "        self.encoder2 = nn.Linear(64, 32)\n",
        "\n",
        "        self.decoder0 = nn.Linear(32, 64)\n",
        "        self.decoder1 = nn.Linear(64, 128)\n",
        "        self.decoder2 = nn.Linear(128, 784)\n",
        "\n",
        "        self.activation0 = nn.ReLU()\n",
        "        self.activation1 = nn.Sigmoid()\n",
        "\n",
        "    def forward(self, X):\n",
        "        X = self.activation0(self.encoder0(X))\n",
        "        X = self.activation0(self.encoder1(X))\n",
        "        X = self.activation0(self.encoder2(X))\n",
        "\n",
        "        X = self.activation0(self.decoder0(X))\n",
        "        X = self.activation0(self.decoder1(X))\n",
        "        X = self.activation1(self.decoder2(X))\n",
        "        return X"
      ],
      "execution_count": 5,
      "outputs": []
    },
    {
      "cell_type": "code",
      "metadata": {
        "id": "yY9lDtY8BqnE",
        "outputId": "b3f84041-4a8e-43cf-b71f-26880a749882",
        "colab": {
          "base_uri": "https://localhost:8080/"
        }
      },
      "source": [
        "device = torch.device('cuda') if torch.cuda.is_available() else torch.device('cpu')\n",
        "device"
      ],
      "execution_count": 6,
      "outputs": [
        {
          "output_type": "execute_result",
          "data": {
            "text/plain": [
              "device(type='cuda')"
            ]
          },
          "metadata": {},
          "execution_count": 6
        }
      ]
    },
    {
      "cell_type": "code",
      "metadata": {
        "id": "-FnosQO7BspO",
        "outputId": "3c289581-b2b3-4bd0-a183-31d4e8437c3f",
        "colab": {
          "base_uri": "https://localhost:8080/"
        }
      },
      "source": [
        "model = autoencoder()\n",
        "model.to(device)"
      ],
      "execution_count": 7,
      "outputs": [
        {
          "output_type": "execute_result",
          "data": {
            "text/plain": [
              "autoencoder(\n",
              "  (encoder0): Linear(in_features=784, out_features=128, bias=True)\n",
              "  (encoder1): Linear(in_features=128, out_features=64, bias=True)\n",
              "  (encoder2): Linear(in_features=64, out_features=32, bias=True)\n",
              "  (decoder0): Linear(in_features=32, out_features=64, bias=True)\n",
              "  (decoder1): Linear(in_features=64, out_features=128, bias=True)\n",
              "  (decoder2): Linear(in_features=128, out_features=784, bias=True)\n",
              "  (activation0): ReLU()\n",
              "  (activation1): Sigmoid()\n",
              ")"
            ]
          },
          "metadata": {},
          "execution_count": 7
        }
      ]
    },
    {
      "cell_type": "code",
      "metadata": {
        "id": "X-YnfblQBxKG"
      },
      "source": [
        "criterion = nn.BCELoss()\n",
        "optimizer = optim.Adam(model.parameters())"
      ],
      "execution_count": 8,
      "outputs": []
    },
    {
      "cell_type": "markdown",
      "metadata": {
        "id": "appMwDHtRTN5"
      },
      "source": [
        "## Etapa 4: Treinamento do modelo"
      ]
    },
    {
      "cell_type": "code",
      "metadata": {
        "id": "OxqnJdUsELbQ",
        "outputId": "37a674d7-ab91-47f3-d3dc-ead199f35486",
        "colab": {
          "base_uri": "https://localhost:8080/"
        }
      },
      "source": [
        "for epoch in range(20):\n",
        "    running_loss_train = 0.\n",
        "    for data in loader_train:\n",
        "        model.train()\n",
        "        inputs, _ = data\n",
        "        inputs = inputs.to(device)\n",
        "        inputs = inputs.view(-1, 28*28)\n",
        "\n",
        "        optimizer.zero_grad()\n",
        "\n",
        "        outputs = model(inputs)\n",
        "        loss = criterion(outputs, inputs.view(*outputs.shape))\n",
        "        loss.backward()\n",
        "\n",
        "        optimizer.step()\n",
        "\n",
        "        running_loss_train += loss.item()\n",
        "\n",
        "    # Validação\n",
        "    running_loss_val = 0.\n",
        "    for data in loader_val:\n",
        "        model.eval()\n",
        "        inputs, _ = data\n",
        "        inputs = inputs.to(device)\n",
        "        inputs = inputs.view(-1, 28*28)\n",
        "        outputs = model(inputs)\n",
        "        loss = criterion(outputs, inputs.view(*outputs.shape))\n",
        "        running_loss_val += loss.item()\n",
        "\n",
        "    # Final da época\n",
        "    print('ÉPOCA {:3d}: perda_train {:.5f} perda_val {:.5f}'.format(epoch + 1, running_loss_train/len(loader_train), running_loss_val/len(loader_val)))"
      ],
      "execution_count": 9,
      "outputs": [
        {
          "output_type": "stream",
          "name": "stdout",
          "text": [
            "ÉPOCA   1: perda_train 0.29516 perda_val 0.23521\n",
            "ÉPOCA   2: perda_train 0.20552 perda_val 0.17357\n",
            "ÉPOCA   3: perda_train 0.16003 perda_val 0.15003\n",
            "ÉPOCA   4: perda_train 0.14692 perda_val 0.14183\n",
            "ÉPOCA   5: perda_train 0.14073 perda_val 0.13652\n",
            "ÉPOCA   6: perda_train 0.13502 perda_val 0.13149\n",
            "ÉPOCA   7: perda_train 0.13059 perda_val 0.12731\n",
            "ÉPOCA   8: perda_train 0.12660 perda_val 0.12349\n",
            "ÉPOCA   9: perda_train 0.12309 perda_val 0.12022\n",
            "ÉPOCA  10: perda_train 0.12006 perda_val 0.11747\n",
            "ÉPOCA  11: perda_train 0.11728 perda_val 0.11493\n",
            "ÉPOCA  12: perda_train 0.11535 perda_val 0.11350\n",
            "ÉPOCA  13: perda_train 0.11363 perda_val 0.11147\n",
            "ÉPOCA  14: perda_train 0.11202 perda_val 0.11013\n",
            "ÉPOCA  15: perda_train 0.11035 perda_val 0.10864\n",
            "ÉPOCA  16: perda_train 0.10868 perda_val 0.10663\n",
            "ÉPOCA  17: perda_train 0.10701 perda_val 0.10500\n",
            "ÉPOCA  18: perda_train 0.10551 perda_val 0.10449\n",
            "ÉPOCA  19: perda_train 0.10432 perda_val 0.10249\n",
            "ÉPOCA  20: perda_train 0.10339 perda_val 0.10141\n"
          ]
        }
      ]
    },
    {
      "cell_type": "markdown",
      "metadata": {
        "id": "AyTjLzELSdQF"
      },
      "source": [
        "## Etapa 5: Geração do encoder"
      ]
    },
    {
      "cell_type": "code",
      "metadata": {
        "id": "wMRlArb6oqnk",
        "outputId": "8b993e3c-6de5-4c9d-d50b-b38a604063e1",
        "colab": {
          "base_uri": "https://localhost:8080/"
        }
      },
      "source": [
        "list(model.children())"
      ],
      "execution_count": 10,
      "outputs": [
        {
          "output_type": "execute_result",
          "data": {
            "text/plain": [
              "[Linear(in_features=784, out_features=128, bias=True),\n",
              " Linear(in_features=128, out_features=64, bias=True),\n",
              " Linear(in_features=64, out_features=32, bias=True),\n",
              " Linear(in_features=32, out_features=64, bias=True),\n",
              " Linear(in_features=64, out_features=128, bias=True),\n",
              " Linear(in_features=128, out_features=784, bias=True),\n",
              " ReLU(),\n",
              " Sigmoid()]"
            ]
          },
          "metadata": {},
          "execution_count": 10
        }
      ]
    },
    {
      "cell_type": "code",
      "metadata": {
        "id": "vIa8lKZ5Dc24",
        "outputId": "b59c8aa6-4f97-49f4-d170-5653e5112faa",
        "colab": {
          "base_uri": "https://localhost:8080/"
        }
      },
      "source": [
        "list(model.children())[6]"
      ],
      "execution_count": 11,
      "outputs": [
        {
          "output_type": "execute_result",
          "data": {
            "text/plain": [
              "ReLU()"
            ]
          },
          "metadata": {},
          "execution_count": 11
        }
      ]
    },
    {
      "cell_type": "code",
      "metadata": {
        "id": "dQyxuGUPDSXo"
      },
      "source": [
        "class encoder(nn.Module):\n",
        "    def __init__(self):\n",
        "        super().__init__()\n",
        "        self.encoder0 = list(model.children())[0]\n",
        "        self.encoder1 = list(model.children())[1]\n",
        "        self.encoder2 = list(model.children())[2]\n",
        "        self.activation0 = list(model.children())[6]\n",
        "\n",
        "    def forward(self, X):\n",
        "        X = self.activation0(self.encoder0(X))\n",
        "        X = self.activation0(self.encoder1(X))\n",
        "        X = self.activation0(self.encoder2(X))\n",
        "        return X"
      ],
      "execution_count": 12,
      "outputs": []
    },
    {
      "cell_type": "code",
      "metadata": {
        "id": "Mh8dxynQDsqO",
        "outputId": "83626a6e-6a65-4a92-f4fe-a532602796f4",
        "colab": {
          "base_uri": "https://localhost:8080/"
        }
      },
      "source": [
        "model1 = encoder()\n",
        "model1.to(device)"
      ],
      "execution_count": 13,
      "outputs": [
        {
          "output_type": "execute_result",
          "data": {
            "text/plain": [
              "encoder(\n",
              "  (encoder0): Linear(in_features=784, out_features=128, bias=True)\n",
              "  (encoder1): Linear(in_features=128, out_features=64, bias=True)\n",
              "  (encoder2): Linear(in_features=64, out_features=32, bias=True)\n",
              "  (activation0): ReLU()\n",
              ")"
            ]
          },
          "metadata": {},
          "execution_count": 13
        }
      ]
    },
    {
      "cell_type": "markdown",
      "metadata": {
        "id": "MJfl5-N7DvW3"
      },
      "source": [
        "## Etapa 6: Geração do decoder"
      ]
    },
    {
      "cell_type": "code",
      "metadata": {
        "id": "oOefXytgD4mS",
        "outputId": "58c90b80-6203-4d98-84fe-20822b1218db",
        "colab": {
          "base_uri": "https://localhost:8080/"
        }
      },
      "source": [
        "list(model.children())[3]"
      ],
      "execution_count": 14,
      "outputs": [
        {
          "output_type": "execute_result",
          "data": {
            "text/plain": [
              "Linear(in_features=32, out_features=64, bias=True)"
            ]
          },
          "metadata": {},
          "execution_count": 14
        }
      ]
    },
    {
      "cell_type": "code",
      "metadata": {
        "id": "AIM8o2xADxjV"
      },
      "source": [
        "class decoder(nn.Module):\n",
        "    def __init__(self):\n",
        "        super().__init__()\n",
        "        self.decoder0 = list(model.children())[3]\n",
        "        self.decoder1 = list(model.children())[4]\n",
        "        self.decoder2 = list(model.children())[5]\n",
        "        self.activation0 = list(model.children())[6]\n",
        "        self.activation1 = list(model.children())[7]\n",
        "\n",
        "    def forward(self, X):\n",
        "        X = self.activation0(self.decoder0(X))\n",
        "        X = self.activation0(self.decoder1(X))\n",
        "        X = self.activation1(self.decoder2(X))\n",
        "        return X"
      ],
      "execution_count": 15,
      "outputs": []
    },
    {
      "cell_type": "code",
      "metadata": {
        "id": "ZnxPxSjDEB1I",
        "outputId": "1bd441a4-280f-4a89-d2e0-12213354a6f6",
        "colab": {
          "base_uri": "https://localhost:8080/"
        }
      },
      "source": [
        "model2 = decoder()\n",
        "model2.to(device)"
      ],
      "execution_count": 16,
      "outputs": [
        {
          "output_type": "execute_result",
          "data": {
            "text/plain": [
              "decoder(\n",
              "  (decoder0): Linear(in_features=32, out_features=64, bias=True)\n",
              "  (decoder1): Linear(in_features=64, out_features=128, bias=True)\n",
              "  (decoder2): Linear(in_features=128, out_features=784, bias=True)\n",
              "  (activation0): ReLU()\n",
              "  (activation1): Sigmoid()\n",
              ")"
            ]
          },
          "metadata": {},
          "execution_count": 16
        }
      ]
    },
    {
      "cell_type": "markdown",
      "metadata": {
        "id": "oIY0ZIqzEDbW"
      },
      "source": [
        "## Etapa 7: Visualização dos resultados"
      ]
    },
    {
      "cell_type": "code",
      "metadata": {
        "id": "eYnre_ClEGPf"
      },
      "source": [
        "numero_imagens = 10\n",
        "\n",
        "imagens_teste = next(iter(loader_val))[0][:numero_imagens]\n",
        "imagens_teste = imagens_teste.to(device)\n",
        "imagens_teste = imagens_teste.view(-1, 28*28)"
      ],
      "execution_count": 17,
      "outputs": []
    },
    {
      "cell_type": "code",
      "metadata": {
        "id": "2Xt02P3FY1bm",
        "colab": {
          "base_uri": "https://localhost:8080/"
        },
        "outputId": "bf8ca289-748c-476b-bdf8-ff18b9c1aa8a"
      },
      "source": [
        "imagens_teste.shape"
      ],
      "execution_count": 18,
      "outputs": [
        {
          "output_type": "execute_result",
          "data": {
            "text/plain": [
              "torch.Size([10, 784])"
            ]
          },
          "metadata": {},
          "execution_count": 18
        }
      ]
    },
    {
      "cell_type": "code",
      "metadata": {
        "id": "aMc4CkouEWPB"
      },
      "source": [
        "model1.eval()\n",
        "imagens_codificadas = model1(imagens_teste)"
      ],
      "execution_count": 19,
      "outputs": []
    },
    {
      "cell_type": "code",
      "metadata": {
        "id": "CJDCLxMlYy0U",
        "colab": {
          "base_uri": "https://localhost:8080/"
        },
        "outputId": "b737ecde-5180-4c1d-d03b-6e0158a23548"
      },
      "source": [
        "imagens_codificadas.shape"
      ],
      "execution_count": 20,
      "outputs": [
        {
          "output_type": "execute_result",
          "data": {
            "text/plain": [
              "torch.Size([10, 32])"
            ]
          },
          "metadata": {},
          "execution_count": 20
        }
      ]
    },
    {
      "cell_type": "code",
      "metadata": {
        "id": "JnKBSX8oEZok"
      },
      "source": [
        "model2.eval()\n",
        "imagens_decodificadas = model2(imagens_codificadas)"
      ],
      "execution_count": 21,
      "outputs": []
    },
    {
      "cell_type": "code",
      "metadata": {
        "id": "oxdiecT2Y5Ro",
        "colab": {
          "base_uri": "https://localhost:8080/"
        },
        "outputId": "967443dc-539a-458e-d632-5589009009e5"
      },
      "source": [
        "imagens_decodificadas.shape"
      ],
      "execution_count": 22,
      "outputs": [
        {
          "output_type": "execute_result",
          "data": {
            "text/plain": [
              "torch.Size([10, 784])"
            ]
          },
          "metadata": {},
          "execution_count": 22
        }
      ]
    },
    {
      "cell_type": "code",
      "metadata": {
        "id": "iBRj29IbEdDZ"
      },
      "source": [
        "imagens_teste = imagens_teste.detach().cpu().numpy().reshape(-1, 28, 28)\n",
        "imagens_codificadas = imagens_codificadas.detach().cpu().numpy().reshape(-1,8,4)\n",
        "imagens_decodificadas = imagens_decodificadas.detach().cpu().numpy().reshape(-1,28,28)"
      ],
      "execution_count": 23,
      "outputs": []
    },
    {
      "cell_type": "code",
      "metadata": {
        "id": "vR-wMRMyErVN",
        "outputId": "9f8e5fc9-4c83-4da7-f526-a4ea5379fd13",
        "colab": {
          "base_uri": "https://localhost:8080/",
          "height": 318
        }
      },
      "source": [
        "fig, axes = plt.subplots(nrows = 3, ncols = numero_imagens, figsize = (10, 4))\n",
        "for imagens, ax_row in zip([imagens_teste, imagens_codificadas,\n",
        "                            imagens_decodificadas], axes):\n",
        "    for img, ax in zip(imagens, ax_row):\n",
        "        ax.imshow(img, cmap = 'gray')\n",
        "        ax.get_xaxis().set_visible(False)\n",
        "        ax.get_yaxis().set_visible(False)"
      ],
      "execution_count": 24,
      "outputs": [
        {
          "output_type": "display_data",
          "data": {
            "text/plain": [
              "<Figure size 1000x400 with 30 Axes>"
            ],
            "image/png": "[encoded data removed]"
          },
          "metadata": {}
        }
      ]
    }
  ]
}